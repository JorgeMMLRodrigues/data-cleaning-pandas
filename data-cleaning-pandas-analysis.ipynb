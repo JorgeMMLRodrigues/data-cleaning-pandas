{
 "cells": [
  {
   "cell_type": "code",
   "execution_count": 42,
   "id": "8f7dbb77-5f03-4c0a-be64-e728a06f3061",
   "metadata": {},
   "outputs": [],
   "source": [
    "import pandas as pd"
   ]
  },
  {
   "cell_type": "code",
   "execution_count": 54,
   "id": "c5252d4a-9b0f-414d-9798-17c7300f6663",
   "metadata": {},
   "outputs": [
    {
     "data": {
      "text/html": [
       "<div>\n",
       "<style scoped>\n",
       "    .dataframe tbody tr th:only-of-type {\n",
       "        vertical-align: middle;\n",
       "    }\n",
       "\n",
       "    .dataframe tbody tr th {\n",
       "        vertical-align: top;\n",
       "    }\n",
       "\n",
       "    .dataframe thead th {\n",
       "        text-align: right;\n",
       "    }\n",
       "</style>\n",
       "<table border=\"1\" class=\"dataframe\">\n",
       "  <thead>\n",
       "    <tr style=\"text-align: right;\">\n",
       "      <th></th>\n",
       "      <th>Date</th>\n",
       "      <th>Type</th>\n",
       "      <th>Country</th>\n",
       "      <th>State</th>\n",
       "      <th>Location</th>\n",
       "      <th>Activity</th>\n",
       "      <th>Name</th>\n",
       "      <th>Sex</th>\n",
       "      <th>Age</th>\n",
       "      <th>Injury</th>\n",
       "      <th>Fatal Y/N</th>\n",
       "      <th>Time</th>\n",
       "      <th>Species</th>\n",
       "      <th>Source</th>\n",
       "      <th>AgeGroup_category</th>\n",
       "      <th>TimeCategory</th>\n",
       "    </tr>\n",
       "  </thead>\n",
       "  <tbody>\n",
       "    <tr>\n",
       "      <th>0</th>\n",
       "      <td>23-01-2025</td>\n",
       "      <td>Unprovoked</td>\n",
       "      <td>AUSTRALIA</td>\n",
       "      <td>WESTERN AUSTRALIA</td>\n",
       "      <td>SHIPWRECK COVE</td>\n",
       "      <td>water activity</td>\n",
       "      <td>Boy</td>\n",
       "      <td>M</td>\n",
       "      <td>12.0</td>\n",
       "      <td>Minor bite to lower body</td>\n",
       "      <td>N</td>\n",
       "      <td>1711.0</td>\n",
       "      <td>unknown</td>\n",
       "      <td>Bob Myatt GSAF</td>\n",
       "      <td>Child</td>\n",
       "      <td>Afternoon</td>\n",
       "    </tr>\n",
       "    <tr>\n",
       "      <th>1</th>\n",
       "      <td>22-01-2025</td>\n",
       "      <td>Unprovoked</td>\n",
       "      <td>AUSTRALIA</td>\n",
       "      <td>WESTERN AUSTRALIA</td>\n",
       "      <td>CHEYNES BEACH</td>\n",
       "      <td>surfing</td>\n",
       "      <td>Dale Kittow</td>\n",
       "      <td>M</td>\n",
       "      <td>37.0</td>\n",
       "      <td>None - chunk of surfboard  bitten out</td>\n",
       "      <td>N</td>\n",
       "      <td>1600.0</td>\n",
       "      <td>whaler</td>\n",
       "      <td>Bob Myatt GSAF</td>\n",
       "      <td>Adult</td>\n",
       "      <td>Afternoon</td>\n",
       "    </tr>\n",
       "    <tr>\n",
       "      <th>2</th>\n",
       "      <td>11-01-2025</td>\n",
       "      <td>Provoked</td>\n",
       "      <td>USA</td>\n",
       "      <td>HAWAII</td>\n",
       "      <td>OFF HALEIWA BOAT HARBOUR OAHU</td>\n",
       "      <td>water activity</td>\n",
       "      <td>Male not stated was a dive tour worker</td>\n",
       "      <td>M</td>\n",
       "      <td>23.0</td>\n",
       "      <td>Bitten on the arm</td>\n",
       "      <td>N</td>\n",
       "      <td>1340.0</td>\n",
       "      <td>unknown</td>\n",
       "      <td>Kevin McMurray Trackingsharks.com</td>\n",
       "      <td>Adult</td>\n",
       "      <td>Afternoon</td>\n",
       "    </tr>\n",
       "    <tr>\n",
       "      <th>3</th>\n",
       "      <td>02-01-2025</td>\n",
       "      <td>Unprovoked</td>\n",
       "      <td>NEW CALEDONIA</td>\n",
       "      <td>GRANDE TERRE</td>\n",
       "      <td>ISLET OF KENDEK NEAR KOUMAC</td>\n",
       "      <td>spearfishing</td>\n",
       "      <td>Robert Cuewapuru</td>\n",
       "      <td>M</td>\n",
       "      <td>40.0</td>\n",
       "      <td>Severe arm injury and delay in medical treatme...</td>\n",
       "      <td>Y</td>\n",
       "      <td>1615.0</td>\n",
       "      <td>bull</td>\n",
       "      <td>Johannes Marchand Todd Smith</td>\n",
       "      <td>Adult</td>\n",
       "      <td>Afternoon</td>\n",
       "    </tr>\n",
       "    <tr>\n",
       "      <th>4</th>\n",
       "      <td>02-01-2025</td>\n",
       "      <td>Unprovoked</td>\n",
       "      <td>AUSTRALIA</td>\n",
       "      <td>SOUTH AUSTRALIA</td>\n",
       "      <td>GRANITES BEACH NEAR WESTALL STREAKY BAY</td>\n",
       "      <td>surfing</td>\n",
       "      <td>Lance Appleby</td>\n",
       "      <td>M</td>\n",
       "      <td>28.0</td>\n",
       "      <td>Body not recovered</td>\n",
       "      <td>Y</td>\n",
       "      <td>1710.0</td>\n",
       "      <td>white</td>\n",
       "      <td>Glen Folkard: Simon De Marchi News.com.au: The...</td>\n",
       "      <td>Adult</td>\n",
       "      <td>Afternoon</td>\n",
       "    </tr>\n",
       "    <tr>\n",
       "      <th>...</th>\n",
       "      <td>...</td>\n",
       "      <td>...</td>\n",
       "      <td>...</td>\n",
       "      <td>...</td>\n",
       "      <td>...</td>\n",
       "      <td>...</td>\n",
       "      <td>...</td>\n",
       "      <td>...</td>\n",
       "      <td>...</td>\n",
       "      <td>...</td>\n",
       "      <td>...</td>\n",
       "      <td>...</td>\n",
       "      <td>...</td>\n",
       "      <td>...</td>\n",
       "      <td>...</td>\n",
       "      <td>...</td>\n",
       "    </tr>\n",
       "    <tr>\n",
       "      <th>6987</th>\n",
       "      <td>16-07-1903</td>\n",
       "      <td>Unprovoked</td>\n",
       "      <td>AUSTRALIA</td>\n",
       "      <td>WESTERN AUSTRALIA</td>\n",
       "      <td>ROEBUCK BAY</td>\n",
       "      <td>water activity</td>\n",
       "      <td>NaN</td>\n",
       "      <td>M</td>\n",
       "      <td>28.1</td>\n",
       "      <td>FATAL</td>\n",
       "      <td>Y</td>\n",
       "      <td>0.0</td>\n",
       "      <td>unknown</td>\n",
       "      <td>H. Taunton; N. Bartlett,  p. 234</td>\n",
       "      <td>Adult</td>\n",
       "      <td>unknown</td>\n",
       "    </tr>\n",
       "    <tr>\n",
       "      <th>6988</th>\n",
       "      <td>16-07-1903</td>\n",
       "      <td>Unprovoked</td>\n",
       "      <td>AUSTRALIA</td>\n",
       "      <td>WESTERN AUSTRALIA</td>\n",
       "      <td>no information</td>\n",
       "      <td>water activity</td>\n",
       "      <td>Ahmun</td>\n",
       "      <td>M</td>\n",
       "      <td>28.1</td>\n",
       "      <td>FATAL</td>\n",
       "      <td>Y</td>\n",
       "      <td>0.0</td>\n",
       "      <td>unknown</td>\n",
       "      <td>H. Taunton; N. Bartlett,  pp. 233-234</td>\n",
       "      <td>Adult</td>\n",
       "      <td>unknown</td>\n",
       "    </tr>\n",
       "    <tr>\n",
       "      <th>6989</th>\n",
       "      <td>16-07-1900</td>\n",
       "      <td>Unprovoked</td>\n",
       "      <td>USA</td>\n",
       "      <td>NORTH CAROLINA</td>\n",
       "      <td>OCRACOKE INLET</td>\n",
       "      <td>swimming</td>\n",
       "      <td>Coast Guard personnel</td>\n",
       "      <td>M</td>\n",
       "      <td>28.1</td>\n",
       "      <td>FATAL</td>\n",
       "      <td>Y</td>\n",
       "      <td>0.0</td>\n",
       "      <td>unknown</td>\n",
       "      <td>F. Schwartz, p.23; C. Creswell, GSAF</td>\n",
       "      <td>Adult</td>\n",
       "      <td>unknown</td>\n",
       "    </tr>\n",
       "    <tr>\n",
       "      <th>6990</th>\n",
       "      <td>16-07-1883</td>\n",
       "      <td>Unprovoked</td>\n",
       "      <td>PANAMA</td>\n",
       "      <td>BA</td>\n",
       "      <td>PANAMA BAY 8ºN, 79ºW</td>\n",
       "      <td>water activity</td>\n",
       "      <td>Jules Patterson</td>\n",
       "      <td>M</td>\n",
       "      <td>28.1</td>\n",
       "      <td>FATAL</td>\n",
       "      <td>Y</td>\n",
       "      <td>0.0</td>\n",
       "      <td>unknown</td>\n",
       "      <td>The Sun, 10/20/1938</td>\n",
       "      <td>Adult</td>\n",
       "      <td>unknown</td>\n",
       "    </tr>\n",
       "    <tr>\n",
       "      <th>6991</th>\n",
       "      <td>16-07-1845</td>\n",
       "      <td>Unprovoked</td>\n",
       "      <td>SRI LANKA</td>\n",
       "      <td>EASTERN PROVINCE</td>\n",
       "      <td>BELOW THE ENGLISH FORT, TRINCOMALEE</td>\n",
       "      <td>swimming</td>\n",
       "      <td>NaN</td>\n",
       "      <td>M</td>\n",
       "      <td>15.0</td>\n",
       "      <td>FATAL. \"Shark bit him in half, carrying away t...</td>\n",
       "      <td>Y</td>\n",
       "      <td>0.0</td>\n",
       "      <td>unknown</td>\n",
       "      <td>S.W. Baker</td>\n",
       "      <td>Teen</td>\n",
       "      <td>unknown</td>\n",
       "    </tr>\n",
       "  </tbody>\n",
       "</table>\n",
       "<p>6992 rows × 16 columns</p>\n",
       "</div>"
      ],
      "text/plain": [
       "            Date        Type        Country              State  \\\n",
       "0     23-01-2025  Unprovoked      AUSTRALIA  WESTERN AUSTRALIA   \n",
       "1     22-01-2025  Unprovoked      AUSTRALIA  WESTERN AUSTRALIA   \n",
       "2     11-01-2025    Provoked            USA             HAWAII   \n",
       "3     02-01-2025  Unprovoked  NEW CALEDONIA       GRANDE TERRE   \n",
       "4     02-01-2025  Unprovoked      AUSTRALIA    SOUTH AUSTRALIA   \n",
       "...          ...         ...            ...                ...   \n",
       "6987  16-07-1903  Unprovoked      AUSTRALIA  WESTERN AUSTRALIA   \n",
       "6988  16-07-1903  Unprovoked      AUSTRALIA  WESTERN AUSTRALIA   \n",
       "6989  16-07-1900  Unprovoked            USA     NORTH CAROLINA   \n",
       "6990  16-07-1883  Unprovoked         PANAMA                 BA   \n",
       "6991  16-07-1845  Unprovoked      SRI LANKA   EASTERN PROVINCE   \n",
       "\n",
       "                                     Location        Activity  \\\n",
       "0                              SHIPWRECK COVE  water activity   \n",
       "1                               CHEYNES BEACH         surfing   \n",
       "2               OFF HALEIWA BOAT HARBOUR OAHU  water activity   \n",
       "3                 ISLET OF KENDEK NEAR KOUMAC    spearfishing   \n",
       "4     GRANITES BEACH NEAR WESTALL STREAKY BAY         surfing   \n",
       "...                                       ...             ...   \n",
       "6987                              ROEBUCK BAY  water activity   \n",
       "6988                           no information  water activity   \n",
       "6989                           OCRACOKE INLET        swimming   \n",
       "6990                     PANAMA BAY 8ºN, 79ºW  water activity   \n",
       "6991      BELOW THE ENGLISH FORT, TRINCOMALEE        swimming   \n",
       "\n",
       "                                        Name Sex   Age  \\\n",
       "0                                       Boy    M  12.0   \n",
       "1                                Dale Kittow   M  37.0   \n",
       "2     Male not stated was a dive tour worker   M  23.0   \n",
       "3                           Robert Cuewapuru   M  40.0   \n",
       "4                              Lance Appleby   M  28.0   \n",
       "...                                      ...  ..   ...   \n",
       "6987                                     NaN   M  28.1   \n",
       "6988                                   Ahmun   M  28.1   \n",
       "6989                   Coast Guard personnel   M  28.1   \n",
       "6990                         Jules Patterson   M  28.1   \n",
       "6991                                     NaN   M  15.0   \n",
       "\n",
       "                                                 Injury Fatal Y/N    Time  \\\n",
       "0                              Minor bite to lower body         N  1711.0   \n",
       "1                 None - chunk of surfboard  bitten out         N  1600.0   \n",
       "2                                     Bitten on the arm         N  1340.0   \n",
       "3     Severe arm injury and delay in medical treatme...         Y  1615.0   \n",
       "4                                    Body not recovered         Y  1710.0   \n",
       "...                                                 ...       ...     ...   \n",
       "6987                                              FATAL         Y     0.0   \n",
       "6988                                              FATAL         Y     0.0   \n",
       "6989                                              FATAL         Y     0.0   \n",
       "6990                                              FATAL         Y     0.0   \n",
       "6991  FATAL. \"Shark bit him in half, carrying away t...         Y     0.0   \n",
       "\n",
       "      Species                                             Source  \\\n",
       "0     unknown                                     Bob Myatt GSAF   \n",
       "1      whaler                                     Bob Myatt GSAF   \n",
       "2     unknown                  Kevin McMurray Trackingsharks.com   \n",
       "3        bull                      Johannes Marchand Todd Smith    \n",
       "4       white  Glen Folkard: Simon De Marchi News.com.au: The...   \n",
       "...       ...                                                ...   \n",
       "6987  unknown                   H. Taunton; N. Bartlett,  p. 234   \n",
       "6988  unknown              H. Taunton; N. Bartlett,  pp. 233-234   \n",
       "6989  unknown               F. Schwartz, p.23; C. Creswell, GSAF   \n",
       "6990  unknown                                The Sun, 10/20/1938   \n",
       "6991  unknown                                         S.W. Baker   \n",
       "\n",
       "     AgeGroup_category TimeCategory  \n",
       "0                Child    Afternoon  \n",
       "1                Adult    Afternoon  \n",
       "2                Adult    Afternoon  \n",
       "3                Adult    Afternoon  \n",
       "4                Adult    Afternoon  \n",
       "...                ...          ...  \n",
       "6987             Adult      unknown  \n",
       "6988             Adult      unknown  \n",
       "6989             Adult      unknown  \n",
       "6990             Adult      unknown  \n",
       "6991              Teen      unknown  \n",
       "\n",
       "[6992 rows x 16 columns]"
      ]
     },
     "execution_count": 54,
     "metadata": {},
     "output_type": "execute_result"
    }
   ],
   "source": [
    "file_path = 'GSAF5_Clean.csv'\n",
    "\n",
    "# Read the Excel file\n",
    "babyshark_clean = pd.read_csv(file_path)\n",
    "babyshark_clean"
   ]
  },
  {
   "cell_type": "code",
   "execution_count": 8,
   "id": "85e473f6-887e-4754-ba19-d6d28a6cc80a",
   "metadata": {},
   "outputs": [
    {
     "data": {
      "text/html": [
       "<div>\n",
       "<style scoped>\n",
       "    .dataframe tbody tr th:only-of-type {\n",
       "        vertical-align: middle;\n",
       "    }\n",
       "\n",
       "    .dataframe tbody tr th {\n",
       "        vertical-align: top;\n",
       "    }\n",
       "\n",
       "    .dataframe thead th {\n",
       "        text-align: right;\n",
       "    }\n",
       "</style>\n",
       "<table border=\"1\" class=\"dataframe\">\n",
       "  <thead>\n",
       "    <tr style=\"text-align: right;\">\n",
       "      <th></th>\n",
       "      <th>Age</th>\n",
       "      <th>Time</th>\n",
       "    </tr>\n",
       "  </thead>\n",
       "  <tbody>\n",
       "    <tr>\n",
       "      <th>count</th>\n",
       "      <td>6992.000000</td>\n",
       "      <td>6988.000000</td>\n",
       "    </tr>\n",
       "    <tr>\n",
       "      <th>mean</th>\n",
       "      <td>28.100415</td>\n",
       "      <td>608.126646</td>\n",
       "    </tr>\n",
       "    <tr>\n",
       "      <th>std</th>\n",
       "      <td>10.829730</td>\n",
       "      <td>698.175984</td>\n",
       "    </tr>\n",
       "    <tr>\n",
       "      <th>min</th>\n",
       "      <td>1.000000</td>\n",
       "      <td>0.000000</td>\n",
       "    </tr>\n",
       "    <tr>\n",
       "      <th>25%</th>\n",
       "      <td>22.000000</td>\n",
       "      <td>0.000000</td>\n",
       "    </tr>\n",
       "    <tr>\n",
       "      <th>50%</th>\n",
       "      <td>28.100000</td>\n",
       "      <td>0.000000</td>\n",
       "    </tr>\n",
       "    <tr>\n",
       "      <th>75%</th>\n",
       "      <td>28.100000</td>\n",
       "      <td>1300.000000</td>\n",
       "    </tr>\n",
       "    <tr>\n",
       "      <th>max</th>\n",
       "      <td>87.000000</td>\n",
       "      <td>2330.000000</td>\n",
       "    </tr>\n",
       "  </tbody>\n",
       "</table>\n",
       "</div>"
      ],
      "text/plain": [
       "               Age         Time\n",
       "count  6992.000000  6988.000000\n",
       "mean     28.100415   608.126646\n",
       "std      10.829730   698.175984\n",
       "min       1.000000     0.000000\n",
       "25%      22.000000     0.000000\n",
       "50%      28.100000     0.000000\n",
       "75%      28.100000  1300.000000\n",
       "max      87.000000  2330.000000"
      ]
     },
     "execution_count": 8,
     "metadata": {},
     "output_type": "execute_result"
    }
   ],
   "source": [
    "babyshark_clean.describe()"
   ]
  },
  {
   "cell_type": "code",
   "execution_count": 92,
   "id": "2182105e-004a-4f96-93e9-7926318127fe",
   "metadata": {},
   "outputs": [
    {
     "name": "stderr",
     "output_type": "stream",
     "text": [
      "/var/folders/hv/sgj9c8cn0ql8vfb3lx01lzbr0000gn/T/ipykernel_34591/688068191.py:1: UserWarning: Parsing dates in %d-%m-%Y format when dayfirst=False (the default) was specified. Pass `dayfirst=True` or specify a format to silence this warning.\n",
      "  babyshark_clean[['Year', 'Month', 'Day']] = babyshark_clean['Date'].apply(lambda x: pd.to_datetime(x, errors='coerce')).apply(lambda x: pd.Series([x.year, x.month, x.day]))\n"
     ]
    }
   ],
   "source": [
    "babyshark_clean[['Year', 'Month', 'Day']] = babyshark_clean['Date'].apply(lambda x: pd.to_datetime(x, errors='coerce')).apply(lambda x: pd.Series([x.year, x.month, x.day]))"
   ]
  },
  {
   "cell_type": "code",
   "execution_count": 94,
   "id": "5d54a0bb-8e17-4c1f-898b-d36922ff7fa6",
   "metadata": {},
   "outputs": [
    {
     "data": {
      "text/plain": [
       "0       2025.0\n",
       "1       2025.0\n",
       "2       2025.0\n",
       "3       2025.0\n",
       "4       2025.0\n",
       "         ...  \n",
       "6987    1903.0\n",
       "6988    1903.0\n",
       "6989    1900.0\n",
       "6990    1883.0\n",
       "6991    1845.0\n",
       "Name: Year, Length: 6992, dtype: float64"
      ]
     },
     "execution_count": 94,
     "metadata": {},
     "output_type": "execute_result"
    }
   ],
   "source": [
    "babyshark_clean['Year']"
   ]
  },
  {
   "cell_type": "code",
   "execution_count": 100,
   "id": "bee75747-c0a6-43d7-bf5a-d581ad553939",
   "metadata": {},
   "outputs": [
    {
     "data": {
      "text/plain": [
       "<Axes: xlabel='Month', ylabel='Count'>"
      ]
     },
     "execution_count": 100,
     "metadata": {},
     "output_type": "execute_result"
    },
    {
     "data": {
      "image/png": "[encoded data removed]",
      "text/plain": [
       "<Figure size 640x480 with 1 Axes>"
      ]
     },
     "metadata": {},
     "output_type": "display_data"
    }
   ],
   "source": [
    "import seaborn as sns\n",
    "sns.histplot(babyshark_clean['Month'], bins=100) "
   ]
  },
  {
   "cell_type": "code",
   "execution_count": 98,
   "id": "6de3198d-a816-4124-bcaa-e792cd76c778",
   "metadata": {},
   "outputs": [
    {
     "data": {
      "text/plain": [
       "Sex  Fatal Y/N\n",
       "F    N            7.0\n",
       "     Y            7.0\n",
       "M    N            7.0\n",
       "     Y            7.0\n",
       "Name: Month, dtype: float64"
      ]
     },
     "execution_count": 98,
     "metadata": {},
     "output_type": "execute_result"
    }
   ],
   "source": [
    "babyshark_clean.groupby(['Sex','Fatal Y/N'])['Month'].median()"
   ]
  },
  {
   "cell_type": "code",
   "execution_count": 112,
   "id": "945a8e60-711d-48e2-bf4e-5af3bf3cb378",
   "metadata": {},
   "outputs": [
    {
     "data": {
      "text/plain": [
       "<Axes: xlabel='Month', ylabel='Fatal Y/N'>"
      ]
     },
     "execution_count": 112,
     "metadata": {},
     "output_type": "execute_result"
    },
    {
     "data": {
      "image/png": "[encoded data removed]",
      "text/plain": [
       "<Figure size 640x480 with 1 Axes>"
      ]
     },
     "metadata": {},
     "output_type": "display_data"
    }
   ],
   "source": [
    "sns.boxplot(x='Month', y='Fatal Y/N', data=babyshark_clean)"
   ]
  },
  {
   "cell_type": "code",
   "execution_count": 159,
   "id": "735ff141-4749-4159-a577-2d98fe0bfa73",
   "metadata": {},
   "outputs": [
    {
     "data": {
      "text/plain": [
       "State\n",
       "FLORIDA                  1186\n",
       "NEW SOUTH WALES           523\n",
       "QUEENSLAND                351\n",
       "no information            344\n",
       "HAWAII                    344\n",
       "CALIFORNIA                324\n",
       "WESTERN AUSTRALIA         236\n",
       "KWAZULU-NATAL             218\n",
       "WESTERN CAPE PROVINCE     197\n",
       "SOUTH CAROLINA            174\n",
       "Name: count, dtype: int64"
      ]
     },
     "execution_count": 159,
     "metadata": {},
     "output_type": "execute_result"
    }
   ],
   "source": [
    "babyshark_clean['State'].value_counts().head(10)"
   ]
  },
  {
   "cell_type": "code",
   "execution_count": 165,
   "id": "84a53870-4387-4e72-a4a0-b71555a02185",
   "metadata": {},
   "outputs": [
    {
     "data": {
      "text/plain": [
       "<Axes: xlabel='Month', ylabel='Count'>"
      ]
     },
     "execution_count": 165,
     "metadata": {},
     "output_type": "execute_result"
    },
    {
     "data": {
      "image/png": "[encoded data removed]",
      "text/plain": [
       "<Figure size 640x480 with 1 Axes>"
      ]
     },
     "metadata": {},
     "output_type": "display_data"
    }
   ],
   "source": [
    "babyshark_clean_HAWAII = babyshark_clean[babyshark_clean['State'] == 'HAWAII']\n",
    "sns.histplot(babyshark_clean_HAWAII['Month'], bins=100) "
   ]
  },
  {
   "cell_type": "code",
   "execution_count": 137,
   "id": "f13d312c-b642-4bc4-8e99-209541259939",
   "metadata": {},
   "outputs": [
    {
     "data": {
      "text/plain": [
       "Country\n",
       "USA                 2523\n",
       "AUSTRALIA           1492\n",
       "SOUTH AFRICA         598\n",
       "no information       165\n",
       "PAPUA NEW GUINEA     144\n",
       "NEW ZEALAND          142\n",
       "BAHAMAS              139\n",
       "BRAZIL               122\n",
       "MEXICO               106\n",
       "FIJI                  83\n",
       "Name: count, dtype: int64"
      ]
     },
     "execution_count": 137,
     "metadata": {},
     "output_type": "execute_result"
    }
   ],
   "source": [
    "babyshark_clean['Country'].value_counts().head(10)"
   ]
  },
  {
   "cell_type": "code",
   "execution_count": 167,
   "id": "f6bb6861-70a4-408d-a3d1-7720c3d903ab",
   "metadata": {},
   "outputs": [
    {
     "data": {
      "text/plain": [
       "Country\n",
       "USA                                     2523\n",
       "AUSTRALIA                               1492\n",
       "SOUTH AFRICA                             598\n",
       "no information                           165\n",
       "PAPUA NEW GUINEA                         144\n",
       "                                        ... \n",
       "NORTHERN MARIANA ISLANDS                   1\n",
       "ZAMBIA                                     1\n",
       "ST MARTIN                                  1\n",
       "VENEZUELA, BOLIVARIAN REPUBLIC OF          1\n",
       "UNITED STATES MINOR OUTLYING ISLANDS       1\n",
       "Name: count, Length: 154, dtype: int64"
      ]
     },
     "execution_count": 167,
     "metadata": {},
     "output_type": "execute_result"
    }
   ],
   "source": [
    "babyshark_clean['Country'].value_counts()\n",
    "portugal\n",
    "australia\n",
    "US\n",
    "indonesia\n",
    "nz\n",
    "sa\n",
    "me"
   ]
  },
  {
   "cell_type": "code",
   "execution_count": 145,
   "id": "4a3fcb29-2469-4a44-bf10-fdbf0b0f42ab",
   "metadata": {},
   "outputs": [
    {
     "data": {
      "text/plain": [
       "<Axes: xlabel='Month', ylabel='Count'>"
      ]
     },
     "execution_count": 145,
     "metadata": {},
     "output_type": "execute_result"
    },
    {
     "data": {
      "image/png": "[encoded data removed]",
      "text/plain": [
       "<Figure size 640x480 with 1 Axes>"
      ]
     },
     "metadata": {},
     "output_type": "display_data"
    }
   ],
   "source": [
    "babyshark_clean_US = babyshark_clean[babyshark_clean['Country'] == 'USA']\n",
    "sns.histplot(babyshark_clean_US['Month'], bins=100) "
   ]
  },
  {
   "cell_type": "code",
   "execution_count": 171,
   "id": "803be657-43c9-4568-8105-b8ac7c40e965",
   "metadata": {},
   "outputs": [
    {
     "data": {
      "text/plain": [
       "<Axes: xlabel='Month', ylabel='Count'>"
      ]
     },
     "execution_count": 171,
     "metadata": {},
     "output_type": "execute_result"
    },
    {
     "data": {
      "image/png": "[encoded data removed]",
      "text/plain": [
       "<Figure size 640x480 with 1 Axes>"
      ]
     },
     "metadata": {},
     "output_type": "display_data"
    }
   ],
   "source": [
    "babyshark_clean_Indonesia = babyshark_clean[babyshark_clean['Country'] == 'INDONESIA']\n",
    "sns.histplot(babyshark_clean_Indonesia['Month'], bins=100) "
   ]
  },
  {
   "cell_type": "code",
   "execution_count": 173,
   "id": "5fe2a541-1118-4fe2-8114-a416b8ad18fd",
   "metadata": {},
   "outputs": [
    {
     "data": {
      "text/plain": [
       "<Axes: xlabel='Month', ylabel='Count'>"
      ]
     },
     "execution_count": 173,
     "metadata": {},
     "output_type": "execute_result"
    },
    {
     "data": {
      "image/png": "[encoded data removed]",
      "text/plain": [
       "<Figure size 640x480 with 1 Axes>"
      ]
     },
     "metadata": {},
     "output_type": "display_data"
    }
   ],
   "source": [
    "babyshark_clean_Mexico = babyshark_clean[babyshark_clean['Country'] == 'MEXICO']\n",
    "sns.histplot(babyshark_clean_Mexico['Month'], bins=100) "
   ]
  },
  {
   "cell_type": "code",
   "execution_count": 149,
   "id": "e2382c7d-76a4-4283-b4bd-f3287476ab65",
   "metadata": {},
   "outputs": [
    {
     "data": {
      "text/plain": [
       "<Axes: xlabel='Month', ylabel='Count'>"
      ]
     },
     "execution_count": 149,
     "metadata": {},
     "output_type": "execute_result"
    },
    {
     "data": {
      "image/png": "[encoded data removed]",
      "text/plain": [
       "<Figure size 640x480 with 1 Axes>"
      ]
     },
     "metadata": {},
     "output_type": "display_data"
    }
   ],
   "source": [
    "babyshark_clean_Australia = babyshark_clean[babyshark_clean['Country'] == 'AUSTRALIA']\n",
    "sns.histplot(babyshark_clean_Australia['Month'], bins=100) "
   ]
  },
  {
   "cell_type": "code",
   "execution_count": 151,
   "id": "31226dfc-3a20-47c3-b125-cc26658d3a3b",
   "metadata": {},
   "outputs": [
    {
     "data": {
      "text/plain": [
       "<Axes: xlabel='Month', ylabel='Count'>"
      ]
     },
     "execution_count": 151,
     "metadata": {},
     "output_type": "execute_result"
    },
    {
     "data": {
      "image/png": "[encoded data removed]",
      "text/plain": [
       "<Figure size 640x480 with 1 Axes>"
      ]
     },
     "metadata": {},
     "output_type": "display_data"
    }
   ],
   "source": [
    "babyshark_clean_SA = babyshark_clean[babyshark_clean['Country'] == 'SOUTH AFRICA']\n",
    "sns.histplot(babyshark_clean_SA['Month'], bins=100) "
   ]
  },
  {
   "cell_type": "code",
   "execution_count": 153,
   "id": "6c435eff-eec6-49c3-a281-2f56f38c41e2",
   "metadata": {},
   "outputs": [
    {
     "data": {
      "text/plain": [
       "<Axes: xlabel='Month', ylabel='Count'>"
      ]
     },
     "execution_count": 153,
     "metadata": {},
     "output_type": "execute_result"
    },
    {
     "data": {
      "image/png": "[encoded data removed]",
      "text/plain": [
       "<Figure size 640x480 with 1 Axes>"
      ]
     },
     "metadata": {},
     "output_type": "display_data"
    }
   ],
   "source": [
    "babyshark_clean_PNG = babyshark_clean[babyshark_clean['Country'] == 'PAPUA NEW GUINEA']\n",
    "sns.histplot(babyshark_clean_PNG['Month'], bins=100) "
   ]
  },
  {
   "cell_type": "code",
   "execution_count": 155,
   "id": "e501f49e-8263-49f0-8c0a-99907f453988",
   "metadata": {},
   "outputs": [
    {
     "data": {
      "text/plain": [
       "<Axes: xlabel='Month', ylabel='Count'>"
      ]
     },
     "execution_count": 155,
     "metadata": {},
     "output_type": "execute_result"
    },
    {
     "data": {
      "image/png": "[encoded data removed]",
      "text/plain": [
       "<Figure size 640x480 with 1 Axes>"
      ]
     },
     "metadata": {},
     "output_type": "display_data"
    }
   ],
   "source": [
    "babyshark_clean_NZ = babyshark_clean[babyshark_clean['Country'] == 'NEW ZEALAND']\n",
    "sns.histplot(babyshark_clean_NZ['Month'], bins=100) "
   ]
  },
  {
   "cell_type": "code",
   "execution_count": 157,
   "id": "6e2ea8b7-a9e3-4d21-a44f-2de6347d2a98",
   "metadata": {},
   "outputs": [
    {
     "data": {
      "text/plain": [
       "<Axes: xlabel='Month', ylabel='Count'>"
      ]
     },
     "execution_count": 157,
     "metadata": {},
     "output_type": "execute_result"
    },
    {
     "data": {
      "image/png": "[encoded data removed]",
      "text/plain": [
       "<Figure size 640x480 with 1 Axes>"
      ]
     },
     "metadata": {},
     "output_type": "display_data"
    }
   ],
   "source": [
    "babyshark_clean_BAHAMAS = babyshark_clean[babyshark_clean['Country'] == 'BAHAMAS']\n",
    "sns.histplot(babyshark_clean_BAHAMAS['Month'], bins=100) "
   ]
  },
  {
   "cell_type": "code",
   "execution_count": null,
   "id": "b9a84ec7-00b1-4aff-894d-1acfea04c889",
   "metadata": {},
   "outputs": [],
   "source": []
  }
 ],
 "metadata": {
  "kernelspec": {
   "display_name": "Python [conda env:base] *",
   "language": "python",
   "name": "conda-base-py"
  },
  "language_info": {
   "codemirror_mode": {
    "name": "ipython",
    "version": 3
   },
   "file_extension": ".py",
   "mimetype": "text/x-python",
   "name": "python",
   "nbconvert_exporter": "python",
   "pygments_lexer": "ipython3",
   "version": "3.12.7"
  }
 },
 "nbformat": 4,
 "nbformat_minor": 5
}
